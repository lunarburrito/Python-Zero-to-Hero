{
 "cells": [
  {
   "cell_type": "markdown",
   "metadata": {},
   "source": [
    "### Basic Math operation"
   ]
  },
  {
   "cell_type": "code",
   "execution_count": null,
   "metadata": {},
   "outputs": [],
   "source": [
    "#adding stuff\n",
    "1 + 6"
   ]
  },
  {
   "cell_type": "code",
   "execution_count": null,
   "metadata": {},
   "outputs": [],
   "source": [
    "#Multiplying stuff\n",
    "3 * 6"
   ]
  },
  {
   "cell_type": "code",
   "execution_count": null,
   "metadata": {},
   "outputs": [],
   "source": [
    "#substraction \n",
    "6 - 7"
   ]
  },
  {
   "cell_type": "code",
   "execution_count": null,
   "metadata": {},
   "outputs": [],
   "source": [
    "#division \n",
    "6/2"
   ]
  },
  {
   "cell_type": "code",
   "execution_count": null,
   "metadata": {},
   "outputs": [],
   "source": [
    "#modulo  --> a%b is zero a is dividable by b\n",
    "6%2"
   ]
  },
  {
   "cell_type": "code",
   "execution_count": null,
   "metadata": {},
   "outputs": [],
   "source": [
    "#power a^b\n",
    "2**3"
   ]
  },
  {
   "cell_type": "code",
   "execution_count": null,
   "metadata": {},
   "outputs": [],
   "source": [
    "#use parentheses to change order of operations\n",
    "(2 + 10) * ( 3 + 50)"
   ]
  },
  {
   "cell_type": "markdown",
   "metadata": {},
   "source": [
    "### Creating and assigning variables"
   ]
  },
  {
   "cell_type": "code",
   "execution_count": null,
   "metadata": {},
   "outputs": [],
   "source": [
    "a = 5 #creating a variable and assigning 5 to it\n",
    "print(a)\n",
    "#adding a to a\n",
    "a+a"
   ]
  },
  {
   "cell_type": "code",
   "execution_count": null,
   "metadata": {},
   "outputs": [],
   "source": [
    "#check the type of a variable by calling the function type()\n",
    "\n",
    "print(\"checking the type of the variable b\")\n",
    "#printing type of b\n",
    "b = 4.1\n",
    "type(b)"
   ]
  },
  {
   "cell_type": "code",
   "execution_count": null,
   "metadata": {},
   "outputs": [],
   "source": [
    "# do some basic arithmetic operations on the variables\n",
    "my_income = 100\n",
    "my_taxes = 0.1\n",
    "\n",
    "taxes = my_income * my_taxes\n",
    "\n",
    "taxes"
   ]
  },
  {
   "cell_type": "markdown",
   "metadata": {},
   "source": [
    "### Strings"
   ]
  },
  {
   "cell_type": "markdown",
   "metadata": {},
   "source": [
    "Printing stuff"
   ]
  },
  {
   "cell_type": "code",
   "execution_count": null,
   "metadata": {},
   "outputs": [],
   "source": [
    "print ( \"hello word\")\n",
    "print (\"hello \\nworld\") # printing on 2 lines\n",
    "print( \"hello \\tworld\") # world is tabbed in\n",
    "print ('hello dude\\'s pet') #use \\ to escape a special character\n"
   ]
  },
  {
   "cell_type": "markdown",
   "metadata": {},
   "source": [
    "every character in a string has an index to it.In python , we start the index at 0. \n",
    "H E L L O --> word\n",
    "0 1 2 3 4 --> index\n",
    "-5 -4 -3 -2 -1 "
   ]
  },
  {
   "cell_type": "code",
   "execution_count": null,
   "metadata": {},
   "outputs": [],
   "source": [
    "hello_word = \"hello\"\n",
    "\n",
    "for i in range (0,len(hello_word)):\n",
    "    print (hello_word[i])\n"
   ]
  },
  {
   "cell_type": "markdown",
   "metadata": {},
   "source": [
    "use reverse indexing to grab the last letter of a word."
   ]
  },
  {
   "cell_type": "code",
   "execution_count": null,
   "metadata": {},
   "outputs": [],
   "source": [
    "print(hello_word[-1])"
   ]
  },
  {
   "cell_type": "markdown",
   "metadata": {},
   "source": [
    "Slicing allows you to grab a subsection of mutltiple characters aka slice. [start:stop:step]"
   ]
  },
  {
   "cell_type": "code",
   "execution_count": null,
   "metadata": {},
   "outputs": [],
   "source": [
    "mystring = \"abcdefghi\"\n",
    "print(mystring [2:-1:1]) #print characters from index 2 till the end\n",
    "print (mystring[:3]) #print characters up to index 3 , so at index 0 1 2 \n",
    "print(mystring[::2]) #defining a step size of 2\n",
    "print(mystring[::-1])"
   ]
  },
  {
   "cell_type": "markdown",
   "metadata": {},
   "source": [
    "string concatenations "
   ]
  },
  {
   "cell_type": "code",
   "execution_count": null,
   "metadata": {},
   "outputs": [],
   "source": [
    "ending = \"ion\"\n",
    "im = \"imaginat\" + ending + \" \"\n",
    "print(im)"
   ]
  },
  {
   "cell_type": "code",
   "execution_count": null,
   "metadata": {},
   "outputs": [],
   "source": [
    "#String multiplication\n",
    "x = im * 3\n",
    "print(x)"
   ]
  },
  {
   "cell_type": "code",
   "execution_count": null,
   "metadata": {},
   "outputs": [],
   "source": [
    "x.upper()"
   ]
  },
  {
   "cell_type": "code",
   "execution_count": null,
   "metadata": {},
   "outputs": [],
   "source": [
    "x.lower()"
   ]
  },
  {
   "cell_type": "code",
   "execution_count": null,
   "metadata": {},
   "outputs": [],
   "source": [
    "x.split() #returns a list split by the whitespace"
   ]
  },
  {
   "cell_type": "code",
   "execution_count": null,
   "metadata": {},
   "outputs": [],
   "source": [
    "x.split('i')"
   ]
  },
  {
   "cell_type": "code",
   "execution_count": null,
   "metadata": {},
   "outputs": [],
   "source": [
    "#printing only the words starting with letter s\n",
    "st = 'can you Sir print all the words that starts with the letter S? and yes inlcuding that S and this one in capital letters'\n",
    "\n",
    "for i in st.split():\n",
    "    if i[0].lower()=='s':\n",
    "        print(i)"
   ]
  },
  {
   "cell_type": "markdown",
   "metadata": {},
   "source": [
    "### formatting with the .format() method"
   ]
  },
  {
   "cell_type": "code",
   "execution_count": null,
   "metadata": {},
   "outputs": [],
   "source": [
    "print('This is a string{}'.format(' adding something here'))"
   ]
  },
  {
   "cell_type": "code",
   "execution_count": null,
   "metadata": {},
   "outputs": [],
   "source": [
    "print(' The {} {} {}'.format('fox','did','poop'))"
   ]
  },
  {
   "cell_type": "code",
   "execution_count": null,
   "metadata": {},
   "outputs": [],
   "source": [
    "print('The {1} {0} {2}'.format('did','fox','poop'))\n",
    "print ('The {1}y {1}'.format('did','fox','poop'))"
   ]
  },
  {
   "cell_type": "markdown",
   "metadata": {},
   "source": [
    "### the float formatting"
   ]
  },
  {
   "cell_type": "code",
   "execution_count": null,
   "metadata": {},
   "outputs": [],
   "source": [
    "result = 100/33\n",
    "print(result)\n",
    "print(f\"the result was {result}\")\n",
    "print(\"the result was {}\".format(result))"
   ]
  },
  {
   "cell_type": "code",
   "execution_count": null,
   "metadata": {
    "scrolled": true
   },
   "outputs": [],
   "source": [
    "print(\"the resulat was {r}\".format(r=result))\n",
    "print(\"the resulat was {r:1.5f}\".format(r=result))"
   ]
  },
  {
   "cell_type": "markdown",
   "metadata": {},
   "source": [
    "### Lists "
   ]
  },
  {
   "cell_type": "code",
   "execution_count": null,
   "metadata": {},
   "outputs": [],
   "source": [
    "my_list = [1,2,3]\n",
    "print(my_list[0]) #indexing\n",
    "print (my_list[1:]) #slicing , prints everything from index 1 to end\n",
    "\n",
    "list_2 = [1 , 1.3, \"lola\"] # a list can contain multiple types : int , float , string\n",
    "\n",
    "len(list_2) #checking the length of a list \n",
    "\n",
    "print(my_list + list_2) #concatenate\n",
    "\n",
    "my_list[0] = \"I AM GOING TO BE INSERTED AT INDEX 0\" # change the elements of a list\n",
    "print(my_list)\n",
    "\n",
    "my_list.append(\"I am going to be appended at the end\") # adding an element to the end of the list \n",
    "print(my_list)\n",
    "\n",
    "item_removed = my_list.pop() #removes the last item on a list and returns the item removed\n",
    "print(my_list)\n",
    "print(item_removed)\n",
    "\n",
    "my_list.pop(0) #removing item from index 0 ( by default it's -1)\n",
    "print(my_list)\n",
    "\n",
    "\n",
    "letters = ['a','e','j','k','l','r','x']\n",
    "\n",
    "nb = [4,6,3,9,1]\n",
    "\n",
    "letters.sort()  #sorts in place\n",
    "print(letters)\n",
    "\n",
    "nb.sort()\n",
    "print(nb)\n",
    "\n",
    "letters.reverse()\n",
    "print (letters)"
   ]
  },
  {
   "cell_type": "markdown",
   "metadata": {},
   "source": [
    "### Dictionnaries"
   ]
  },
  {
   "cell_type": "markdown",
   "metadata": {},
   "source": [
    "{'key1':'value1','key2':'value2'}\n",
    "\n",
    "Objects in a dictionnary are retrieved by keyname ( and not with locations like in lists)\n",
    "Unordered and cannot be sorted."
   ]
  },
  {
   "cell_type": "code",
   "execution_count": null,
   "metadata": {},
   "outputs": [],
   "source": [
    "my_dict = {'key1' : 'value1' , 'key2' : 'value2'}\n",
    "\n",
    "print(my_dict)\n",
    "\n",
    "print(my_dict['key1'])\n",
    "\n",
    "fruits_prices = {'Oranges' : 2 , 'Apples' : 3 , 'Pears' : 5}\n",
    "print(f\"oranges are priced at {fruits_prices['Oranges']}\")"
   ]
  },
  {
   "cell_type": "code",
   "execution_count": null,
   "metadata": {},
   "outputs": [],
   "source": [
    "dict = {'key1':['a','b','c']} \n",
    "#I want to grab the letter c and print it in capital\n",
    "\n",
    "dict['key1'][2].upper() "
   ]
  },
  {
   "cell_type": "code",
   "execution_count": null,
   "metadata": {},
   "outputs": [],
   "source": [
    "#adding values to a dictionnary\n",
    "my_dict = {'key1' : 'value1' , 'key2' : 'value2'}\n",
    "\n",
    "my_dict['key3'] = 'value3'\n",
    "\n",
    "print(my_dict)"
   ]
  },
  {
   "cell_type": "code",
   "execution_count": null,
   "metadata": {},
   "outputs": [],
   "source": [
    "# changing value for a key \n",
    "my_dict = {'key1' : 'value1' , 'key2' : 'value2'}\n",
    "\n",
    "my_dict['key1'] = 'NEW VALUE'\n",
    "print(my_dict)"
   ]
  },
  {
   "cell_type": "code",
   "execution_count": null,
   "metadata": {},
   "outputs": [],
   "source": [
    "#returning the keys\n",
    "my_dict.keys()"
   ]
  },
  {
   "cell_type": "code",
   "execution_count": null,
   "metadata": {},
   "outputs": [],
   "source": [
    "#returning the values\n",
    "my_dict.values()"
   ]
  },
  {
   "cell_type": "code",
   "execution_count": null,
   "metadata": {},
   "outputs": [],
   "source": [
    "#returning the associations\n",
    "my_dict.items()"
   ]
  },
  {
   "cell_type": "markdown",
   "metadata": {},
   "source": [
    "### Tuples\n",
    "\n",
    "Lists that are immutable !\n",
    "\n",
    "are benificial when we need to have data integrity ( we are not accidently changing values of our tuple when run in a program)"
   ]
  },
  {
   "cell_type": "code",
   "execution_count": null,
   "metadata": {},
   "outputs": [],
   "source": [
    "t = (1,4,3)\n",
    "\n",
    "my_list = [1,4,3]\n",
    "\n",
    "type(t) #returns the type"
   ]
  },
  {
   "cell_type": "code",
   "execution_count": null,
   "metadata": {},
   "outputs": [],
   "source": [
    "len(t) #returns the len of the tuple"
   ]
  },
  {
   "cell_type": "code",
   "execution_count": null,
   "metadata": {},
   "outputs": [],
   "source": [
    "t[1]  #indexing"
   ]
  },
  {
   "cell_type": "code",
   "execution_count": null,
   "metadata": {},
   "outputs": [],
   "source": [
    "t[1:] #slicing"
   ]
  },
  {
   "cell_type": "code",
   "execution_count": null,
   "metadata": {},
   "outputs": [],
   "source": [
    "t = ('a' , 'a' , 'b')\n",
    "\n",
    "t.count('a') #how many times the string a occurs"
   ]
  },
  {
   "cell_type": "code",
   "execution_count": null,
   "metadata": {},
   "outputs": [],
   "source": [
    "t.index('a') #first occurence of the string a"
   ]
  },
  {
   "cell_type": "code",
   "execution_count": null,
   "metadata": {},
   "outputs": [],
   "source": [
    "my_list[0] = 'new'\n",
    " # t [0] = 'test'   'tuple' object does not support item assignment"
   ]
  },
  {
   "cell_type": "markdown",
   "metadata": {},
   "source": [
    "### Sets\n",
    "\n",
    "Sets are unordered collection of unique elements"
   ]
  },
  {
   "cell_type": "code",
   "execution_count": null,
   "metadata": {},
   "outputs": [],
   "source": [
    "my_set = set()\n",
    "\n",
    "my_set.add(1)\n",
    "\n",
    "my_set"
   ]
  },
  {
   "cell_type": "code",
   "execution_count": null,
   "metadata": {},
   "outputs": [],
   "source": [
    "my_set.add(4)\n",
    "my_set"
   ]
  },
  {
   "cell_type": "code",
   "execution_count": null,
   "metadata": {},
   "outputs": [],
   "source": [
    "my_set.add(1)\n",
    "my_set"
   ]
  },
  {
   "cell_type": "code",
   "execution_count": 36,
   "metadata": {},
   "outputs": [
    {
     "data": {
      "text/plain": [
       "{1, 4, 5, 6, 7}"
      ]
     },
     "execution_count": 36,
     "metadata": {},
     "output_type": "execute_result"
    }
   ],
   "source": [
    "#casting a list in a set\n",
    "my_list = [1,1,4,4,5,5,6,7,6]\n",
    "\n",
    "set(my_list)"
   ]
  },
  {
   "cell_type": "code",
   "execution_count": null,
   "metadata": {},
   "outputs": [],
   "source": [
    "set(\"Missisipi\")"
   ]
  },
  {
   "cell_type": "markdown",
   "metadata": {},
   "source": [
    "### Booleans\n",
    "\n",
    "True or False"
   ]
  },
  {
   "cell_type": "code",
   "execution_count": null,
   "metadata": {},
   "outputs": [],
   "source": [
    "1 + 2 == 3 - 0"
   ]
  },
  {
   "cell_type": "code",
   "execution_count": null,
   "metadata": {},
   "outputs": [],
   "source": [
    "1+2 == 1-2"
   ]
  },
  {
   "cell_type": "code",
   "execution_count": null,
   "metadata": {},
   "outputs": [],
   "source": [
    "1 > 2"
   ]
  },
  {
   "cell_type": "markdown",
   "metadata": {},
   "source": [
    "### I/O with files "
   ]
  },
  {
   "cell_type": "code",
   "execution_count": null,
   "metadata": {},
   "outputs": [],
   "source": [
    "%%writefile myfile.txt\n",
    "this apparently creates a text file plus putting this rubbish inside\n",
    "yea everything is created and sent to this file"
   ]
  },
  {
   "cell_type": "code",
   "execution_count": null,
   "metadata": {},
   "outputs": [],
   "source": [
    "myfile = open('myfile.txt')\n",
    "\n",
    "myfile.read()\n",
    "\n",
    "\n"
   ]
  },
  {
   "cell_type": "code",
   "execution_count": null,
   "metadata": {},
   "outputs": [],
   "source": [
    "myfile.read() # this is empty since we need to seek to index 0 before attempting to read again\n"
   ]
  },
  {
   "cell_type": "code",
   "execution_count": null,
   "metadata": {},
   "outputs": [],
   "source": [
    "myfile.seek(0)\n",
    "myfile.read()"
   ]
  },
  {
   "cell_type": "code",
   "execution_count": null,
   "metadata": {},
   "outputs": [],
   "source": [
    "myfile.seek(0)\n",
    "myfile.readlines() # creates a list of lines\n"
   ]
  },
  {
   "cell_type": "code",
   "execution_count": null,
   "metadata": {},
   "outputs": [],
   "source": [
    "myfile.seek(0)\n",
    "myfile.readlines(1)"
   ]
  },
  {
   "cell_type": "code",
   "execution_count": null,
   "metadata": {},
   "outputs": [],
   "source": [
    "myfile.close() #always close a file after opening it"
   ]
  },
  {
   "cell_type": "markdown",
   "metadata": {},
   "source": [
    "mode ='r' #read only\n",
    "mode ='w' #write only\n",
    "mode = 'r+' # read and write to file\n",
    "mode ='a' #append mode"
   ]
  },
  {
   "cell_type": "code",
   "execution_count": null,
   "metadata": {},
   "outputs": [],
   "source": [
    "with open ('myfile.txt',mode='r') as myfile :\n",
    "    contents = myfile.read()"
   ]
  },
  {
   "cell_type": "code",
   "execution_count": null,
   "metadata": {},
   "outputs": [],
   "source": [
    "%%writefile bunnies.txt\n",
    "There are 10 bunnies on the tree , one dies , 9 remain.\n",
    "There are 9 bunnies on the tree , one dies , 8 remain.\n",
    "There are 8 bunnies on the tree, one dies , 7 remain."
   ]
  },
  {
   "cell_type": "code",
   "execution_count": null,
   "metadata": {},
   "outputs": [],
   "source": [
    "with open ('bunnies.txt',mode='r') as f:\n",
    "   print(f.read())"
   ]
  },
  {
   "cell_type": "code",
   "execution_count": null,
   "metadata": {},
   "outputs": [],
   "source": [
    "print(len('There are 7 bunnies on the tree, one dies , 6 remain'))\n",
    "with open ('bunnies.txt',mode='a') as f:\n",
    "    f.write('There are 7 bunnies on the tree, one dies , 6 remain') #returns the length of data written\n",
    "    \n",
    "with open('bunnies.txt',mode='r') as f:\n",
    "    print(f.read())"
   ]
  },
  {
   "cell_type": "markdown",
   "metadata": {},
   "source": [
    "### Comparaison operators"
   ]
  },
  {
   "cell_type": "code",
   "execution_count": null,
   "metadata": {},
   "outputs": [],
   "source": [
    "#checking equality\n",
    "print(2 == 2)\n",
    "print(\"Hello\" == \"Bye\" )"
   ]
  },
  {
   "cell_type": "code",
   "execution_count": null,
   "metadata": {},
   "outputs": [],
   "source": [
    "# not equal\n",
    "print (3 != 4)"
   ]
  },
  {
   "cell_type": "code",
   "execution_count": null,
   "metadata": {},
   "outputs": [],
   "source": [
    "#greater than \n",
    "print (2 > 1)\n",
    "\n",
    "#less than\n",
    "print (1 < 4)\n",
    "\n",
    "#greater than \n",
    "print(2 >= 1)\n",
    "\n",
    "#less than\n",
    "print (3 <= 4)"
   ]
  },
  {
   "cell_type": "markdown",
   "metadata": {},
   "source": [
    "### Logical Operators\n",
    "and : true if all conditions to be true\n",
    "or : true if at least one condition to be true"
   ]
  },
  {
   "cell_type": "code",
   "execution_count": null,
   "metadata": {},
   "outputs": [],
   "source": [
    "if 3 < 2 and 4 > 3 :\n",
    "    print(\"yea baby !\")\n",
    "else:\n",
    "    print (\"nop\")"
   ]
  },
  {
   "cell_type": "code",
   "execution_count": null,
   "metadata": {},
   "outputs": [],
   "source": [
    "if 3 < 2 or 4 > 3 :\n",
    "    print(\"yea baby !\")\n",
    "else:\n",
    "    print (\"nop\")"
   ]
  },
  {
   "cell_type": "code",
   "execution_count": null,
   "metadata": {},
   "outputs": [],
   "source": [
    "if not (2 == 1):\n",
    "    print (\"I am printing this since the condition tested was false\")"
   ]
  },
  {
   "cell_type": "markdown",
   "metadata": {},
   "source": [
    "### if , elif and else statements"
   ]
  },
  {
   "cell_type": "code",
   "execution_count": null,
   "metadata": {},
   "outputs": [],
   "source": [
    "if True : \n",
    "    print (\"yes baby\")"
   ]
  },
  {
   "cell_type": "code",
   "execution_count": null,
   "metadata": {},
   "outputs": [],
   "source": [
    "if 3 > 2 : \n",
    "    print (\"yes it's true\")"
   ]
  },
  {
   "cell_type": "code",
   "execution_count": null,
   "metadata": {},
   "outputs": [],
   "source": [
    "hungry = True\n",
    "if hungry:  # no need to write hungry == True since hungry is a boolean\n",
    "    print(\"feed me\")\n",
    "else :\n",
    "    print(\"im so full\")"
   ]
  },
  {
   "cell_type": "code",
   "execution_count": null,
   "metadata": {},
   "outputs": [],
   "source": [
    "location = \"Bank\"\n",
    "\n",
    "if location == \"Car shop\":\n",
    "    print(\"Cars are cool !\")\n",
    "elif location == \"Bank\":\n",
    "    print(\"money money money\")\n",
    "else:\n",
    "    print(\"whatever dude\")"
   ]
  },
  {
   "cell_type": "code",
   "execution_count": null,
   "metadata": {},
   "outputs": [],
   "source": [
    "##Write a program that prints the integers from 1 to 100. But for multiples of three print \"Fizz\" instead of the number, \n",
    "##and for the multiples of five print \"Buzz\". \n",
    "##For numbers which are multiples of both three and five print \"FizzBuzz\"\n",
    "\n",
    "nbs = [ii for ii in range (0,101)]\n",
    "\n",
    "for i in range (1,101):\n",
    "    \n",
    "    if i%3 ==0 and i%5 == 0:\n",
    "        print (\"FizzBuzz\")\n",
    "    \n",
    "    if i%3 ==0 :\n",
    "        print (\"Fizz\")\n",
    "    elif i%5 == 0 :\n",
    "        print(\"Buzz\")\n",
    "    else:\n",
    "        print(i)"
   ]
  },
  {
   "cell_type": "markdown",
   "metadata": {},
   "source": [
    "### for loops"
   ]
  },
  {
   "cell_type": "code",
   "execution_count": null,
   "metadata": {},
   "outputs": [],
   "source": [
    "my_list = [0,1,5,7,8,10]\n",
    "\n",
    "for i in my_list:\n",
    "    print(f\"item {i}\")\n",
    "    #print (i)"
   ]
  },
  {
   "cell_type": "code",
   "execution_count": null,
   "metadata": {},
   "outputs": [],
   "source": [
    "#checking even/odd numbers in a list before returning them\n",
    "\n",
    "for i in my_list:\n",
    "    if i % 2 == 0:\n",
    "        print(\"printing even numbers\")\n",
    "        print(i)\n",
    "    else:\n",
    "        print(\"printing odd numbers\")\n",
    "        print(i)\n",
    "    "
   ]
  },
  {
   "cell_type": "code",
   "execution_count": null,
   "metadata": {},
   "outputs": [],
   "source": [
    "sum_list = 0\n",
    "\n",
    "for i in my_list:\n",
    "    sum_list += i # sum_list = sum_list + i\n",
    "print(sum_list)"
   ]
  },
  {
   "cell_type": "code",
   "execution_count": null,
   "metadata": {},
   "outputs": [],
   "source": [
    "stisti = \"testing\"\n",
    "for letter in stisti:  # for letter in \"testing\"\n",
    "    print(letter)"
   ]
  },
  {
   "cell_type": "code",
   "execution_count": null,
   "metadata": {},
   "outputs": [],
   "source": [
    "for _ in \"smart city\":\n",
    "    print(\"cool\")"
   ]
  },
  {
   "cell_type": "markdown",
   "metadata": {},
   "source": [
    "#### Tuple unpacking"
   ]
  },
  {
   "cell_type": "code",
   "execution_count": null,
   "metadata": {},
   "outputs": [],
   "source": [
    "lola = [(1,2),(4,5),(7,9),(16,7)]\n",
    "\n",
    "for (a,b) in lola: # OR for a,b in lola\n",
    "    print(a)\n",
    "    print(b)"
   ]
  },
  {
   "cell_type": "markdown",
   "metadata": {},
   "source": [
    "#### iterating through a dictionnary"
   ]
  },
  {
   "cell_type": "code",
   "execution_count": null,
   "metadata": {},
   "outputs": [],
   "source": [
    "dicty = {'key1':'value1','key2':'value2','key3':'value3'}\n",
    "\n",
    "for i in dicty:\n",
    "    print(i) #prints only the keys\n",
    "    print(dicty[i]) #prints the value\n",
    "\n"
   ]
  },
  {
   "cell_type": "code",
   "execution_count": null,
   "metadata": {},
   "outputs": [],
   "source": [
    "for i in dicty.items():\n",
    "    print(i)"
   ]
  },
  {
   "cell_type": "code",
   "execution_count": null,
   "metadata": {},
   "outputs": [],
   "source": [
    "for key,value in dicty.items():\n",
    "    print(key,value)"
   ]
  },
  {
   "cell_type": "code",
   "execution_count": null,
   "metadata": {},
   "outputs": [],
   "source": [
    "for vivi in dicty.values():\n",
    "    print(vivi)"
   ]
  },
  {
   "cell_type": "markdown",
   "metadata": {},
   "source": [
    "### While loops"
   ]
  },
  {
   "cell_type": "code",
   "execution_count": null,
   "metadata": {},
   "outputs": [],
   "source": [
    "i=1\n",
    "while i < 5:\n",
    "    print(f\"i am counting to 5 : {i}\")\n",
    "    i +=1\n",
    "else :\n",
    "    print(\"x>5\")"
   ]
  },
  {
   "cell_type": "markdown",
   "metadata": {},
   "source": [
    "#### pass break and continue"
   ]
  },
  {
   "cell_type": "code",
   "execution_count": null,
   "metadata": {},
   "outputs": [],
   "source": [
    "i = 5\n",
    "if i in (1,2,3):\n",
    "    pass # does not do anything , just fills the void\n",
    "else:\n",
    "    print(\"not in first loop\")\n"
   ]
  },
  {
   "cell_type": "code",
   "execution_count": null,
   "metadata": {},
   "outputs": [],
   "source": [
    "#continue : goes to the top of the closest enclosing loop\n",
    "\n",
    "my_string = \"Sammy\"\n",
    "\n",
    "for kk in my_string:\n",
    "    if kk == 'a':\n",
    "        continue\n",
    "    print(kk)\n",
    "    "
   ]
  },
  {
   "cell_type": "code",
   "execution_count": null,
   "metadata": {},
   "outputs": [],
   "source": [
    "#break : breaks out of the top of the closest enclosing loop\n",
    "\n",
    "my_string = \"Sammy\"\n",
    "\n",
    "for kk in my_string:\n",
    "    if kk == 'a':\n",
    "        break\n",
    "    print(kk)"
   ]
  },
  {
   "cell_type": "markdown",
   "metadata": {},
   "source": [
    "### Useful operators"
   ]
  },
  {
   "cell_type": "markdown",
   "metadata": {},
   "source": [
    "#### Range "
   ]
  },
  {
   "cell_type": "code",
   "execution_count": null,
   "metadata": {},
   "outputs": [],
   "source": [
    "for num in range(1,8,2):\n",
    "    print(num)\n",
    "    \n",
    "for num in range(5):\n",
    "    print(num)  # print 0 to 5"
   ]
  },
  {
   "cell_type": "code",
   "execution_count": null,
   "metadata": {},
   "outputs": [],
   "source": [
    "a=list(range(0,2))\n",
    "\n",
    "print(a)"
   ]
  },
  {
   "cell_type": "code",
   "execution_count": null,
   "metadata": {},
   "outputs": [],
   "source": [
    "##Use range() to print all the even numbers from 0 to 10.**\n",
    "#Code Here\n",
    "\n",
    "for i in range (0,11):\n",
    "    if i%2== 0:\n",
    "        print(i)\n",
    "        \n",
    "listy = list(range(0,11,2))\n",
    "print(listy)"
   ]
  },
  {
   "cell_type": "markdown",
   "metadata": {},
   "source": [
    "#### enumurate\n"
   ]
  },
  {
   "cell_type": "code",
   "execution_count": null,
   "metadata": {},
   "outputs": [],
   "source": [
    "index_count = 0 \n",
    "for letter in 'abcdefgh':\n",
    "    print(\"at {} we have the letter : {}\".format(index_count,letter))\n",
    "    index_count+=1"
   ]
  },
  {
   "cell_type": "code",
   "execution_count": null,
   "metadata": {},
   "outputs": [],
   "source": [
    "word='abcdefgh'\n",
    "for letter in enumerate(word):\n",
    "    print(letter) # return the tuples index and the letter"
   ]
  },
  {
   "cell_type": "code",
   "execution_count": null,
   "metadata": {},
   "outputs": [],
   "source": [
    "word='abcdefgh'\n",
    "for index,letter in enumerate(word):\n",
    "    print(index,letter) # return the tuples index and the letter"
   ]
  },
  {
   "cell_type": "markdown",
   "metadata": {},
   "source": [
    "#### zip"
   ]
  },
  {
   "cell_type": "code",
   "execution_count": null,
   "metadata": {},
   "outputs": [],
   "source": [
    "my_list1 = [1,2,3,4,5]\n",
    "my_list2 = ['a','b','c','d']\n",
    "\n",
    "for item in zip(my_list1,my_list2): #zip till the index of the shortest list\n",
    "    print (item)"
   ]
  },
  {
   "cell_type": "code",
   "execution_count": null,
   "metadata": {},
   "outputs": [],
   "source": [
    "list(zip(my_list1,my_list2))"
   ]
  },
  {
   "cell_type": "markdown",
   "metadata": {},
   "source": [
    "#### min and max"
   ]
  },
  {
   "cell_type": "code",
   "execution_count": null,
   "metadata": {},
   "outputs": [],
   "source": [
    "list6= [1,4,5,8,54]\n",
    "print(min(list6))\n",
    "print(max(list6))"
   ]
  },
  {
   "cell_type": "markdown",
   "metadata": {},
   "source": [
    "#### Random"
   ]
  },
  {
   "cell_type": "code",
   "execution_count": null,
   "metadata": {},
   "outputs": [],
   "source": [
    "from random import shuffle\n",
    "\n",
    "shuffle(list6)\n",
    "\n",
    "list6\n",
    "\n"
   ]
  },
  {
   "cell_type": "code",
   "execution_count": null,
   "metadata": {},
   "outputs": [],
   "source": [
    "from random import randint\n",
    "\n",
    "randint(1,45)"
   ]
  },
  {
   "cell_type": "markdown",
   "metadata": {},
   "source": [
    "#### input function"
   ]
  },
  {
   "cell_type": "code",
   "execution_count": null,
   "metadata": {},
   "outputs": [],
   "source": [
    "hey_there = input(\"enter a number here\")\n",
    "print(f\" you have entered {hey_there}\")\n",
    "type(hey_there) # is always a string"
   ]
  },
  {
   "cell_type": "markdown",
   "metadata": {},
   "source": [
    "### List Comprehension"
   ]
  },
  {
   "cell_type": "code",
   "execution_count": null,
   "metadata": {},
   "outputs": [],
   "source": [
    "my_list = []\n",
    "my_string =\"hello\"\n",
    "\n",
    "for lett in my_string:\n",
    "    my_list.append(lett)\n",
    "my_list"
   ]
  },
  {
   "cell_type": "code",
   "execution_count": null,
   "metadata": {},
   "outputs": [],
   "source": [
    "my_list = [letter for letter in my_string]\n",
    "print(my_list)"
   ]
  },
  {
   "cell_type": "code",
   "execution_count": null,
   "metadata": {},
   "outputs": [],
   "source": [
    "my_list = [letter for letter in \"hello\"]\n",
    "print(my_list)"
   ]
  },
  {
   "cell_type": "code",
   "execution_count": null,
   "metadata": {},
   "outputs": [],
   "source": [
    "my_list = [nb for nb in range(0,11)]\n",
    "print(my_list)"
   ]
  },
  {
   "cell_type": "code",
   "execution_count": null,
   "metadata": {},
   "outputs": [],
   "source": [
    "my_list = [nb**2 for nb in range(0,11)]\n",
    "print(my_list)"
   ]
  },
  {
   "cell_type": "code",
   "execution_count": null,
   "metadata": {},
   "outputs": [],
   "source": [
    "my_list = [nb for nb in range(0,11) if nb % 2 == 0]\n",
    "print(my_list)"
   ]
  },
  {
   "cell_type": "code",
   "execution_count": null,
   "metadata": {},
   "outputs": [],
   "source": [
    "celcius = [0,10,14,21]\n",
    "\n",
    "fahrneheit = [((9/5)*temp+ 32) for temp in celcius]\n",
    "\n",
    "fahrneheit"
   ]
  },
  {
   "cell_type": "markdown",
   "metadata": {},
   "source": [
    "## Functions"
   ]
  },
  {
   "cell_type": "code",
   "execution_count": null,
   "metadata": {},
   "outputs": [],
   "source": [
    "def func ():\n",
    "    print(\"this is the fucntion body\")\n",
    "    \n",
    "func()"
   ]
  },
  {
   "cell_type": "code",
   "execution_count": null,
   "metadata": {},
   "outputs": [],
   "source": [
    "def func (word):\n",
    "    print(f\"this is the function body {word}\")\n",
    "    \n",
    "func(\"yes\")"
   ]
  },
  {
   "cell_type": "code",
   "execution_count": null,
   "metadata": {},
   "outputs": [],
   "source": [
    "#you can use return with the function for reassignement afterwards instead of only printing out something\n",
    "def adding(a,b):\n",
    "    return a+b\n",
    "\n",
    "addedthis = adding(1,5)\n",
    "addedthis"
   ]
  },
  {
   "cell_type": "code",
   "execution_count": null,
   "metadata": {},
   "outputs": [],
   "source": [
    "#use docstrings to add explanation on the function\n",
    "def adding(a,b):\n",
    "    '''this function adds 2 things'''\n",
    "    return a+b\n",
    "\n",
    "help(adding)"
   ]
  },
  {
   "cell_type": "code",
   "execution_count": null,
   "metadata": {},
   "outputs": [],
   "source": [
    "#add a default value so the function won't return an error when called with no arguments\n",
    "\n",
    "def hello_people(name='Rita'):\n",
    "    print(\"hello \" + name)\n",
    "    \n",
    "hello_people()\n"
   ]
  },
  {
   "cell_type": "code",
   "execution_count": null,
   "metadata": {},
   "outputs": [],
   "source": [
    "# use the return keyword to get variables after being handled by the function\n",
    "\n",
    "def hello_name(name='Rita'):\n",
    "    return \"hello \" +name\n",
    "\n",
    "hello1 = hello_name()\n",
    "print(hello1)"
   ]
  },
  {
   "cell_type": "code",
   "execution_count": null,
   "metadata": {},
   "outputs": [],
   "source": [
    "#function to check if 'dog' is in string\n",
    "\n",
    "def dog_in_string(s):\n",
    "    return 'dog' in s.lower()\n",
    "\n",
    "dog_in_string('Dog went home')"
   ]
  },
  {
   "cell_type": "code",
   "execution_count": null,
   "metadata": {},
   "outputs": [],
   "source": [
    "#if a word starts with a vowel add 'ay' to the end apple-> appleay\n",
    "#if a word does not start with a vowel , put first letter at the end then add 'ay' word-> ordway\n",
    "\n",
    "def vowel_word(s):\n",
    "    return s + 'ay'\n",
    "def non_vowel_word(s):\n",
    "    return s[1:len(s)] + s[0] +'ay'  #could have used s[1:] which would have returned the same\n",
    "\n",
    "def latin_pig(s):\n",
    "    if s[0] in ['a','e','i','u','y']:\n",
    "        return vowel_word(s)\n",
    "    else:\n",
    "        return non_vowel_word(s)\n",
    "latin_pig('word')"
   ]
  },
  {
   "cell_type": "code",
   "execution_count": null,
   "metadata": {},
   "outputs": [],
   "source": [
    "latin_pig('apple')"
   ]
  },
  {
   "cell_type": "markdown",
   "metadata": {},
   "source": [
    "### args and kwargs"
   ]
  },
  {
   "cell_type": "code",
   "execution_count": null,
   "metadata": {},
   "outputs": [],
   "source": [
    "def my_func(a,b):\n",
    "    '''return 5% of the sum of a and b'''\n",
    "    return (a+b)*0.05\n",
    "my_func(5,3)"
   ]
  },
  {
   "cell_type": "code",
   "execution_count": null,
   "metadata": {},
   "outputs": [],
   "source": [
    "#if I need to pass in more arguments\n",
    "def myfunc(*args):\n",
    "    return sum(args) *0.05\n",
    "\n",
    "myfunc(5,6,100,52)"
   ]
  },
  {
   "cell_type": "code",
   "execution_count": null,
   "metadata": {},
   "outputs": [],
   "source": [
    "def my_func(**kwargs):\n",
    "    print (kwargs)\n",
    "    if 'animal' in kwargs:\n",
    "        print ('my favorite animal is {}'.format(kwargs['animal']))\n",
    "    else :\n",
    "        print('I did not find anything here')\n",
    "        \n",
    "my_func(animal='dog')"
   ]
  },
  {
   "cell_type": "code",
   "execution_count": null,
   "metadata": {},
   "outputs": [],
   "source": [
    "#return only the even numbers\n",
    "\n",
    "def evens(*args):\n",
    "    listy = []\n",
    "    for i in args:  # I can just say for i in args\n",
    "         if i % 2 == 0:\n",
    "              listy.append(i)\n",
    "    return listy"
   ]
  },
  {
   "cell_type": "code",
   "execution_count": null,
   "metadata": {},
   "outputs": [],
   "source": [
    "evens(1,2,6,8,6,9,11)"
   ]
  },
  {
   "cell_type": "markdown",
   "metadata": {},
   "source": []
  },
  {
   "cell_type": "code",
   "execution_count": null,
   "metadata": {},
   "outputs": [],
   "source": [
    "#even letters is uppercase and odd letters are uppercase\n",
    "\n",
    "def myfunc(w='Anthropomorphism'):\n",
    "    out = []\n",
    "    for i in range (0,len(w)):\n",
    "        if i % 2 == 0:\n",
    "            out.append (w[i].upper())\n",
    "        else:\n",
    "           out.append(w[i].lower())\n",
    "    return ''.join(out)\n",
    "        \n",
    "myfunc('hello')\n",
    "    "
   ]
  },
  {
   "cell_type": "code",
   "execution_count": null,
   "metadata": {},
   "outputs": [],
   "source": [
    "#Given a sentence return the sentence with the words reversed\n",
    "\n",
    "def master_yoda(text):\n",
    "    listy = text.split(' ')\n",
    "    listy.reverse()\n",
    "    return \" \".join(listy)\n",
    "\n",
    "master_yoda('I am home')"
   ]
  },
  {
   "cell_type": "code",
   "execution_count": null,
   "metadata": {},
   "outputs": [],
   "source": []
  },
  {
   "cell_type": "code",
   "execution_count": null,
   "metadata": {},
   "outputs": [],
   "source": [
    "#SPY GAME: Write a function that takes in a list of integers and returns True if it contains 007 in order¶\n",
    "\n",
    "def spy_game(nums):\n",
    "    for i in range (0,(len(nums)-2)):\n",
    "        b = nums[i]== 0 and nums[i+1]== 0 and nums[i+2]== 7\n",
    "        if b == True:\n",
    "            break\n",
    "    return b \n",
    "\n",
    "\n",
    "spy_game([1,2,4,0,0,7,5]) \n",
    " "
   ]
  },
  {
   "cell_type": "code",
   "execution_count": null,
   "metadata": {},
   "outputs": [],
   "source": [
    "# SPy Game - go 2\n",
    "\n",
    "def spy_game(nums):\n",
    "    spy = [0,0,7,'x']\n",
    "    for num in nums:\n",
    "        if num == spy[0]:\n",
    "            spy.pop(0)\n",
    "    return len(spy) ==1"
   ]
  },
  {
   "cell_type": "code",
   "execution_count": null,
   "metadata": {},
   "outputs": [],
   "source": [
    "spy_game([1,2,4,0,0,7])"
   ]
  },
  {
   "cell_type": "code",
   "execution_count": null,
   "metadata": {},
   "outputs": [],
   "source": [
    "###ALMOST THERE: Given an integer n, return True if n is within 10 of either 100 or 200\n",
    "###almost_there(90) --> True\n",
    "###almost_there(104) --> True\n",
    "###almost_there(150) --> False\n",
    "###almost_there(209) --> True\n",
    "###NOTE: abs(num) returns the absolute value of a number\n",
    "\n",
    "def almost_there(n):\n",
    "    return ((abs(100 - n) <= 10) or (abs(200 - n) <= 10))"
   ]
  },
  {
   "cell_type": "code",
   "execution_count": null,
   "metadata": {},
   "outputs": [],
   "source": [
    "#Write a function that returns the *number* of prime numbers that exist up to and including a given number\n",
    " #   count_primes(100) --> 25\n",
    "    \n",
    "def is_prime(prime_nb):\n",
    "    for i in range(2,prime_nb):\n",
    "        if prime_nb % i == 0:\n",
    "            return False\n",
    "            break\n",
    "        return True\n",
    "                    \n",
    "\n",
    "is_prime(56)\n",
    "    \n",
    "\n",
    "    "
   ]
  },
  {
   "cell_type": "code",
   "execution_count": null,
   "metadata": {},
   "outputs": [],
   "source": [
    "def prime_range(nb):\n",
    "    listy = []\n",
    "    for i in range (2,nb):\n",
    "        if is_prime(i):\n",
    "            listy.append(i)\n",
    "    return listy\n",
    "    \n",
    "prime_range(23)"
   ]
  },
  {
   "cell_type": "code",
   "execution_count": 1,
   "metadata": {},
   "outputs": [],
   "source": [
    "# Function that returns the nb of prime nb up to a given nb\n",
    "\n",
    "def prime_range(num):\n",
    "    primes = [2]\n",
    "    x = 3\n",
    "    while x <= num:\n",
    "        for y in primes:\n",
    "            if x%y == 0:\n",
    "                x +=2\n",
    "                break\n",
    "                \n",
    "        else:\n",
    "            primes.append(x)\n",
    "            x +=2\n",
    "    \n",
    "    return primes"
   ]
  },
  {
   "cell_type": "code",
   "execution_count": 2,
   "metadata": {},
   "outputs": [
    {
     "data": {
      "text/plain": [
       "[2, 3, 5, 7, 11, 13, 17, 19]"
      ]
     },
     "execution_count": 2,
     "metadata": {},
     "output_type": "execute_result"
    }
   ],
   "source": [
    "prime_range(20)"
   ]
  },
  {
   "cell_type": "code",
   "execution_count": null,
   "metadata": {},
   "outputs": [],
   "source": [
    "def lesser_of_two_evens(a,b):\n",
    "    if a % 2 == 0 and b % 2 == 0: \n",
    "        if a > b:       # we could have used the min and max function !!!!\n",
    "            return b\n",
    "        else:\n",
    "            return a\n",
    "    else:\n",
    "        if a > b:\n",
    "            return a\n",
    "        else:\n",
    "            return b"
   ]
  },
  {
   "cell_type": "code",
   "execution_count": null,
   "metadata": {},
   "outputs": [],
   "source": [
    "### SUMMER OF '69: Return the sum of the numbers in the array, \n",
    "#except ignore sections of numbers starting with a 6 and extending to the next 9 \n",
    "#(every 6 will be followed by at least one 9). Return 0 for no numbers.\n",
    "#summer_69([1, 3, 5]) --> 9\n",
    "#summer_69([4, 5, 6, 7, 8, 9]) --> 9\n",
    "#summer_69([2, 1, 6, 9, 11]) --> 14\n",
    "\n",
    "\n",
    "def summer_69(arr):\n",
    "    add = True\n",
    "    sum = 0\n",
    "    for nb in arr:\n",
    "        while add:\n",
    "            if nb != 6:\n",
    "                sum += nb\n",
    "                break\n",
    "            else:\n",
    "                add = False\n",
    "        while not add:\n",
    "            if nb != 9:\n",
    "                break                \n",
    "            else:\n",
    "                add = True\n",
    "                break\n",
    "                \n",
    "    return sum\n"
   ]
  },
  {
   "cell_type": "code",
   "execution_count": null,
   "metadata": {},
   "outputs": [],
   "source": [
    "summer_69([1,3,5])"
   ]
  },
  {
   "cell_type": "code",
   "execution_count": null,
   "metadata": {},
   "outputs": [],
   "source": [
    "summer_69([4, 5, 6, 7, 8, 9])"
   ]
  },
  {
   "cell_type": "code",
   "execution_count": null,
   "metadata": {},
   "outputs": [],
   "source": [
    "def lesser_of_two_evens(a,b):\n",
    "    if a % 2 == 0 and b % 2 == 0:\n",
    "      return min(a,b)\n",
    "    else:\n",
    "       return max(a,b)"
   ]
  },
  {
   "cell_type": "markdown",
   "metadata": {},
   "source": [
    "## Map , filters and lambda functions"
   ]
  },
  {
   "cell_type": "markdown",
   "metadata": {},
   "source": [
    "### Maps"
   ]
  },
  {
   "cell_type": "code",
   "execution_count": 2,
   "metadata": {},
   "outputs": [],
   "source": [
    "def square(a):\n",
    "    return a**2\n",
    "\n"
   ]
  },
  {
   "cell_type": "code",
   "execution_count": 4,
   "metadata": {},
   "outputs": [
    {
     "name": "stdout",
     "output_type": "stream",
     "text": [
      "1\n",
      "25\n",
      "16\n",
      "49\n"
     ]
    }
   ],
   "source": [
    "my_nums = [1,5,4,7]\n",
    "\n",
    "#either we do a for loop OR we can use map\n",
    "\n",
    "for item in map(square,my_nums):\n",
    "    print(item)"
   ]
  },
  {
   "cell_type": "markdown",
   "metadata": {},
   "source": [
    "### Filters"
   ]
  },
  {
   "cell_type": "code",
   "execution_count": 5,
   "metadata": {},
   "outputs": [],
   "source": [
    "def check_even(num):\n",
    "    return num % 2 == 0"
   ]
  },
  {
   "cell_type": "code",
   "execution_count": 9,
   "metadata": {},
   "outputs": [],
   "source": [
    "my_nums= [1,4,6,7,8,10]"
   ]
  },
  {
   "cell_type": "code",
   "execution_count": 10,
   "metadata": {},
   "outputs": [
    {
     "data": {
      "text/plain": [
       "[4, 6, 8, 10]"
      ]
     },
     "execution_count": 10,
     "metadata": {},
     "output_type": "execute_result"
    }
   ],
   "source": [
    "list(filter(check_even,my_nums))"
   ]
  },
  {
   "cell_type": "markdown",
   "metadata": {},
   "source": [
    "### Lambda Functions"
   ]
  },
  {
   "cell_type": "code",
   "execution_count": 19,
   "metadata": {},
   "outputs": [],
   "source": [
    "def square(num): return num **2"
   ]
  },
  {
   "cell_type": "code",
   "execution_count": 20,
   "metadata": {},
   "outputs": [
    {
     "data": {
      "text/plain": [
       "81"
      ]
     },
     "execution_count": 20,
     "metadata": {},
     "output_type": "execute_result"
    }
   ],
   "source": [
    "square(9)"
   ]
  },
  {
   "cell_type": "code",
   "execution_count": 22,
   "metadata": {},
   "outputs": [
    {
     "data": {
      "text/plain": [
       "<function __main__.<lambda>(num)>"
      ]
     },
     "execution_count": 22,
     "metadata": {},
     "output_type": "execute_result"
    }
   ],
   "source": [
    "lambda num : num**2 #useful if intended to be used only once"
   ]
  },
  {
   "cell_type": "code",
   "execution_count": 23,
   "metadata": {},
   "outputs": [
    {
     "data": {
      "text/plain": [
       "[1, 16, 36, 49, 64, 100]"
      ]
     },
     "execution_count": 23,
     "metadata": {},
     "output_type": "execute_result"
    }
   ],
   "source": [
    "list(map(lambda num : num**2,my_nums))  #using it with map"
   ]
  },
  {
   "cell_type": "code",
   "execution_count": 18,
   "metadata": {},
   "outputs": [
    {
     "data": {
      "text/plain": [
       "<function __main__.<lambda>(num)>"
      ]
     },
     "execution_count": 18,
     "metadata": {},
     "output_type": "execute_result"
    }
   ],
   "source": [
    "lambda num : num%2"
   ]
  },
  {
   "cell_type": "code",
   "execution_count": 24,
   "metadata": {},
   "outputs": [
    {
     "data": {
      "text/plain": [
       "[1, 7]"
      ]
     },
     "execution_count": 24,
     "metadata": {},
     "output_type": "execute_result"
    }
   ],
   "source": [
    "list(filter(lambda num : num % 2 , my_nums))"
   ]
  },
  {
   "cell_type": "markdown",
   "metadata": {},
   "source": [
    "### Some exercices "
   ]
  },
  {
   "cell_type": "code",
   "execution_count": 29,
   "metadata": {},
   "outputs": [],
   "source": [
    "# Sphere volum is (4/3)*pie*r**3\n",
    "import math\n",
    "def sphere_vol(rdius):\n",
    "    return (4/3)*math.pi*(rdius**3)"
   ]
  },
  {
   "cell_type": "code",
   "execution_count": 30,
   "metadata": {},
   "outputs": [
    {
     "data": {
      "text/plain": [
       "268.082573106329"
      ]
     },
     "execution_count": 30,
     "metadata": {},
     "output_type": "execute_result"
    }
   ],
   "source": [
    "sphere_vol(4)"
   ]
  },
  {
   "cell_type": "markdown",
   "metadata": {},
   "source": [
    "Write a Python function that accepts a string and calculates the number of upper case letters and lower case letters.\n",
    "\n",
    "Sample String : 'Hello Mr. Rogers, how are you this fine Tuesday?'\n",
    "Expected Output : \n",
    "No. of Upper case characters : 4\n",
    "No. of Lower case Characters : 33\n",
    "HINT: Two string methods that might prove useful: .isupper() and .islower()\n",
    "\n",
    "If you feel ambitious, explore the Collections module to solve this problem!"
   ]
  },
  {
   "cell_type": "code",
   "execution_count": 34,
   "metadata": {},
   "outputs": [],
   "source": [
    "def up_low_cases(x):\n",
    "    up_letters = 0\n",
    "    lo_letters = 0\n",
    "    for i in range (0,len(x)):\n",
    "        if x[i].isupper():\n",
    "            up_letters +=1\n",
    "        else:\n",
    "            lo_letters +=1\n",
    "    print(f'The string has {up_letters} capital letters and {lo_letters} lowercase letters')\n",
    "        "
   ]
  },
  {
   "cell_type": "code",
   "execution_count": 35,
   "metadata": {},
   "outputs": [
    {
     "name": "stdout",
     "output_type": "stream",
     "text": [
      "The string has 2 capital letters and 14 lowercase letters\n"
     ]
    }
   ],
   "source": [
    "up_low_cases('This is bUllshit')"
   ]
  },
  {
   "cell_type": "markdown",
   "metadata": {},
   "source": [
    "Write a Python function that takes a list and returns a new list with unique elements of the first list.\n",
    "\n",
    "Sample List : [1,1,1,1,2,2,3,3,3,3,4,5]\n",
    "Unique List : [1, 2, 3, 4, 5]"
   ]
  },
  {
   "cell_type": "code",
   "execution_count": 39,
   "metadata": {},
   "outputs": [],
   "source": [
    "def unique_list(listy):\n",
    "    return list(set(listy))"
   ]
  },
  {
   "cell_type": "code",
   "execution_count": 40,
   "metadata": {},
   "outputs": [
    {
     "data": {
      "text/plain": [
       "[1, 2, 4, 5]"
      ]
     },
     "execution_count": 40,
     "metadata": {},
     "output_type": "execute_result"
    }
   ],
   "source": [
    "unique_list([1,1,2,2,4,5])"
   ]
  },
  {
   "cell_type": "markdown",
   "metadata": {},
   "source": [
    "### First Milestone - Tic Tac Toe"
   ]
  },
  {
   "cell_type": "code",
   "execution_count": null,
   "metadata": {},
   "outputs": [],
   "source": [
    "import random\n",
    "\n",
    "random.randint()"
   ]
  }
 ],
 "metadata": {
  "kernelspec": {
   "display_name": "Python 3",
   "language": "python",
   "name": "python3"
  },
  "language_info": {
   "codemirror_mode": {
    "name": "ipython",
    "version": 3
   },
   "file_extension": ".py",
   "mimetype": "text/x-python",
   "name": "python",
   "nbconvert_exporter": "python",
   "pygments_lexer": "ipython3",
   "version": "3.6.7"
  }
 },
 "nbformat": 4,
 "nbformat_minor": 2
}
